  {
   "cell_type": "code",
   "execution_count": null,
   "id": "679ccccd-39ec-42f2-ba8d-c85f56637bfb",
   "metadata": {},
   "outputs": [
    {
     "name": "stderr",
     "output_type": "stream",
     "text": [
      "2025-03-31 19:47:13.801 python3.10[68722:2706231] WARNING: AVCaptureDeviceTypeExternal is deprecated for Continuity Cameras. Please use AVCaptureDeviceTypeContinuityCamera and add NSCameraUseContinuityCameraDeviceType to your Info.plist.\n"
     ]
    }
   ],
   "source": [
    "#Deteccion de colores en un video\n",
    "import cv2\n",
    "import numpy as np\n",
    "\n",
    "cap = cv2.VideoCapture(0)\n",
    "\n",
    "while(cap.isOpened()):\n",
    "    ret, img = cap.read() #esta vez usamos 'img' en lugar de 'frame'\n",
    "\n",
    "    if (ret == True):\n",
    "        #convertimos a hsv\n",
    "        img_hsv = cv2.cvtColor(img,cv2.COLOR_BGR2HSV)\n",
    "\n",
    "        #definimos los rangos del color que queremos detectar y buscamos en la iage\n",
    "        azul_bajo = np.array([100,50,50],np.uint8)\n",
    "        azul_alto = np.array([130,255,255],np.uint8)\n",
    "        mascara = cv2.inRange(img_hsv,azul_bajo,azul_alto)\n",
    "\n",
    "        #ahora buscamos los contornos \n",
    "\n",
    "        contornos,_ = cv2.findContours(mascara,cv2.RETR_EXTERNAL,cv2.CHAIN_APPROX_SIMPLE)\n",
    "\n",
    "        for c in contornos:\n",
    "            area = cv2.contourArea(c)\n",
    "            if (area>1000):\n",
    "                \n",
    "                x,y,w,h = cv2.boundingRect(c)\n",
    "                cv2.rectangle(img,(x,y),(x+w,y+h),(255,0,0),2)\n",
    "                cv2.putText(img,str(area),(x,y-5),cv2.FONT_HERSHEY_SIMPLEX,0.5,(255,0,0),4)\n",
    "        \n",
    "        \n",
    "        cv2.imshow('Video binarizado',mascara)\n",
    "        cv2.imshow('Video de entrada',img)\n",
    "\n",
    "        if(cv2.waitKey(1) & 0xFF == ord('q')):\n",
    "            break\n",
    "    else:\n",
    "        break\n",
    "\n",
    "cap.release()\n",
    "cv2.destroyAllWindows()"
   ]
  },
  {
   "cell_type": "code",
   "execution_count": null,
   "id": "f0b7691d-5f01-493c-ba1f-16c37c813f58",
   "metadata": {},
   "outputs": [],
   "source": []
  },
  {
   "cell_type": "code",
   "execution_count": null,
   "id": "43de0ecf-441d-4c48-8926-70710ecd6ec0",
   "metadata": {},
   "outputs": [],
   "source": []
  }
 ],
 "metadata": {
  "kernelspec": {
   "display_name": "Python 3 (ipykernel)",
   "language": "python",
   "name": "python3"
  },
  "language_info": {
   "codemirror_mode": {
    "name": "ipython",
    "version": 3
   },
   "file_extension": ".py",
   "mimetype": "text/x-python",
   "name": "python",
   "nbconvert_exporter": "python",
   "pygments_lexer": "ipython3",
   "version": "3.10.14"
  }
 },
 "nbformat": 4,
 "nbformat_minor": 5
}
